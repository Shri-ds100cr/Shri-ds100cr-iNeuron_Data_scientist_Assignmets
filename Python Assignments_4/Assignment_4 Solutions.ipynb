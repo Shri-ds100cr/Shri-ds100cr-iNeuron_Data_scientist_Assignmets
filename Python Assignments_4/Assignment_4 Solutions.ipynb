{
 "cells": [
  {
   "cell_type": "markdown",
   "id": "69e213a5",
   "metadata": {},
   "source": [
    "## 1. What exactly is []?"
   ]
  },
  {
   "cell_type": "markdown",
   "id": "2fa9dad6",
   "metadata": {},
   "source": [
    "**ANS:-** used to write expressions that evaluate to a single item within a list, or a single character in a string"
   ]
  },
  {
   "cell_type": "markdown",
   "id": "470e6754",
   "metadata": {},
   "source": [
    "## 2. In a list of values stored in a variable called spam, how would you assign the value 'hello' as the third value? (Assume [2, 4, 6, 8, 10] are in spam.)For the following three questions, let's say spam contains the list ['a', 'b', 'c', 'd']?"
   ]
  },
  {
   "cell_type": "markdown",
   "id": "9bf32f62",
   "metadata": {},
   "source": [
    "**ANS:-** spam[2] = 'hello' (Notice that the third value in a list is at index 2 because the first index is 0.)"
   ]
  },
  {
   "cell_type": "markdown",
   "id": "4846c1fd",
   "metadata": {},
   "source": [
    "## 3. What is the value of spam[int(int('3' * 2) / 11)]?"
   ]
  },
  {
   "cell_type": "markdown",
   "id": "a6c2a140",
   "metadata": {},
   "source": [
    "**ANS:-** d' (Note that '3' * 2 is the string '33', which is passed to int() before being divided by 11. This eventually evaluates to 3. Expressions can be used wherever values are used.)"
   ]
  },
  {
   "cell_type": "markdown",
   "id": "76ff6748",
   "metadata": {},
   "source": [
    "## 4. What does spam[-1] evaluate to?"
   ]
  },
  {
   "cell_type": "markdown",
   "id": "e6560ea7",
   "metadata": {},
   "source": [
    "**ANS:-** d' (Negative indexes count from the end)"
   ]
  },
  {
   "cell_type": "markdown",
   "id": "592a0894",
   "metadata": {},
   "source": [
    "## 5.What does spam[:2] evaluate toLet's pretend bacon has the list [3.14, 'cat,' 11, 'cat,' True] for the next three questions.?"
   ]
  },
  {
   "cell_type": "markdown",
   "id": "d0c863af",
   "metadata": {},
   "source": [
    "['a', 'b']"
   ]
  },
  {
   "cell_type": "markdown",
   "id": "1ae4613e",
   "metadata": {},
   "source": [
    "## 6. What is the value of bacon.index('cat')?"
   ]
  },
  {
   "cell_type": "markdown",
   "id": "3ebbe83b",
   "metadata": {},
   "source": [
    "bacon contains the list [3.14, 'cat', 11, 'cat', True]."
   ]
  },
  {
   "cell_type": "markdown",
   "id": "7596433b",
   "metadata": {},
   "source": [
    "## 7. How does bacon.append(99) change the look of the list value in bacon?"
   ]
  },
  {
   "cell_type": "markdown",
   "id": "77b2ce36",
   "metadata": {},
   "source": [
    " bacon contains the list [3.14, 'cat', 11, 'cat', True]."
   ]
  },
  {
   "cell_type": "markdown",
   "id": "0c99dd84",
   "metadata": {},
   "source": [
    "## 8. How does bacon.remove('cat') change the look of the list in bacon?"
   ]
  },
  {
   "cell_type": "markdown",
   "id": "3e62c5f5",
   "metadata": {},
   "source": [
    " [3.14, 11, 'cat', True]."
   ]
  },
  {
   "cell_type": "markdown",
   "id": "4194e5a2",
   "metadata": {},
   "source": [
    "## 9. What are the list concatenation and list replication operators?"
   ]
  },
  {
   "cell_type": "markdown",
   "id": "5170726c",
   "metadata": {},
   "source": [
    "The operator for list concatenation is +, while the operator for replication is *."
   ]
  },
  {
   "cell_type": "markdown",
   "id": "45ac3cf0",
   "metadata": {},
   "source": [
    "## 10. What is difference between the list methods append() and insert()?"
   ]
  },
  {
   "cell_type": "markdown",
   "id": "ba391cfe",
   "metadata": {},
   "source": [
    "**ANS:-** insert() methods? The difference between the two methods is that . append() adds an item to the end of a list, whereas . insert() inserts and item in a specified position in the list."
   ]
  },
  {
   "cell_type": "markdown",
   "id": "990f433d",
   "metadata": {},
   "source": [
    "## 11. What are the two methods for removing items from a list?"
   ]
  },
  {
   "cell_type": "markdown",
   "id": "d49617ed",
   "metadata": {},
   "source": [
    "**ANS:-** The methods are remove(), pop() and clear(). It helps to remove the very first given element matching from the list. The pop() method removes an element from the list based on the index given. The clear() method will remove all the elements present in the list."
   ]
  },
  {
   "cell_type": "markdown",
   "id": "9808a399",
   "metadata": {},
   "source": [
    "## 12. Describe how list values and string values are identical?"
   ]
  },
  {
   "cell_type": "markdown",
   "id": "667bb801",
   "metadata": {},
   "source": [
    "**ANS:-** The similarity between Lists and Strings in Python is that both are sequences. The differences between them are that firstly, Lists are mutable but Strings are immutable. Secondly, elements of a list can be of different types whereas a String only contains characters that are all of String type."
   ]
  },
  {
   "cell_type": "markdown",
   "id": "f7839c8b",
   "metadata": {},
   "source": [
    "## 13. What's the difference between tuples and lists?"
   ]
  },
  {
   "cell_type": "markdown",
   "id": "7afa5dac",
   "metadata": {},
   "source": [
    "**ANS:-** The primary difference between tuples and lists is that tuples are immutable as opposed to lists which are mutable. Therefore, it is possible to change a list but not a tuple."
   ]
  },
  {
   "cell_type": "markdown",
   "id": "cda87176",
   "metadata": {},
   "source": [
    "## 14. How do you type a tuple value that only contains the integer 42?"
   ]
  },
  {
   "cell_type": "markdown",
   "id": "7d4753a2",
   "metadata": {},
   "source": [
    "**ANS:-** (42,) (The trailing comma is mandatory.)"
   ]
  },
  {
   "cell_type": "markdown",
   "id": "030a0ad2",
   "metadata": {},
   "source": [
    "## 15. How do you get a list value's tuple form? How do you get a tuple value's list form?"
   ]
  },
  {
   "cell_type": "markdown",
   "id": "50949ffd",
   "metadata": {},
   "source": [
    "**ANS:-** An iterable can be passed as an input to the tuple () function, which will convert it to a tuple object. If you want to convert a Python list to a tuple, you can use the tuple() function to pass the full list as an argument, and it will return the tuple data type as an output."
   ]
  },
  {
   "cell_type": "markdown",
   "id": "e66cbf3c",
   "metadata": {},
   "source": [
    "## 16. Variables that \"contain\" list values are not necessarily lists themselves. Instead, what do they contain?"
   ]
  },
  {
   "cell_type": "markdown",
   "id": "7ac8d691",
   "metadata": {},
   "source": [
    "**ANS:-** Variables will contain references to list values rather than list values themselves. But for strings and integer values, variables simply contain the string or integer value."
   ]
  },
  {
   "cell_type": "markdown",
   "id": "093df2ef",
   "metadata": {},
   "source": [
    "## 17. How do you distinguish between copy.copy() and copy.deepcopy()?"
   ]
  },
  {
   "cell_type": "markdown",
   "id": "6705578f",
   "metadata": {},
   "source": [
    "**ANS:-** copy() create reference to original object. If you change copied object - you change the original object. . deepcopy() creates new object and does real copying of original object to new one."
   ]
  },
  {
   "cell_type": "code",
   "execution_count": null,
   "id": "9d54f4c3",
   "metadata": {},
   "outputs": [],
   "source": []
  }
 ],
 "metadata": {
  "kernelspec": {
   "display_name": "Python 3 (ipykernel)",
   "language": "python",
   "name": "python3"
  },
  "language_info": {
   "codemirror_mode": {
    "name": "ipython",
    "version": 3
   },
   "file_extension": ".py",
   "mimetype": "text/x-python",
   "name": "python",
   "nbconvert_exporter": "python",
   "pygments_lexer": "ipython3",
   "version": "3.9.7"
  }
 },
 "nbformat": 4,
 "nbformat_minor": 5
}
