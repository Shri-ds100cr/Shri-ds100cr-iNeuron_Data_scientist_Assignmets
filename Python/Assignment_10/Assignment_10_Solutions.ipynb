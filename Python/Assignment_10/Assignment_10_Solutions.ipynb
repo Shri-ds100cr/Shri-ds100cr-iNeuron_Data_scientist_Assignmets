{
 "cells": [
  {
   "cell_type": "markdown",
   "id": "fd5f0ffa",
   "metadata": {},
   "source": [
    "## 1.How do you distinguish between shutil.copy() and shutil.copytree()?"
   ]
  },
  {
   "cell_type": "markdown",
   "id": "e609c424",
   "metadata": {},
   "source": [
    "The shutil module in Python provides two functions for copying files and directories: shutil.copy() and shutil.copytree(). The main difference between the two functions is that shutil.copy() copies a single file, while shutil.copytree() copies an entire directory tree, including all of its files and subdirectories.\n",
    "\n",
    "Here are some more details on each function:\n",
    "\n",
    "shutil.copy(src, dst, *, follow_symlinks=True): This function copies the file at the src path to the dst path. If the dst path specifies a directory, the file is copied into that directory with the same name. If the dst path specifies a file name, the file is copied to that file name. If the dst file already exists, it is overwritten. The follow_symlinks parameter specifies whether to follow symbolic links or not (the default is True)."
   ]
  },
  {
   "cell_type": "markdown",
   "id": "567fe41e",
   "metadata": {},
   "source": [
    "## 2. What function is used to rename files??"
   ]
  },
  {
   "cell_type": "markdown",
   "id": "6e2616c0",
   "metadata": {},
   "source": [
    "The os.rename() function is used to rename files in Python. It is part of the built-in os module and allows you to rename a file by providing the current file name and the new file name."
   ]
  },
  {
   "cell_type": "markdown",
   "id": "dc37d8fd",
   "metadata": {},
   "source": [
    "## 3. What is the difference between the delete functions in the send2trash and shutil modules?"
   ]
  },
  {
   "cell_type": "markdown",
   "id": "f12debb2",
   "metadata": {},
   "source": [
    "Both the send2trash and shutil modules in Python provide functions to delete files and directories, but there are some differences between the two.\n",
    "\n",
    "The main difference is that the send2trash module moves the file or directory to the operating system's trash or recycle bin instead of deleting it permanently, while the shutil module deletes the file or directory permanently. This means that if you use send2trash to delete a file, you can potentially recover it later from the trash or recycle bin, whereas if you use shutil to delete a file, it will be gone forever."
   ]
  },
  {
   "cell_type": "markdown",
   "id": "d35e0d9b",
   "metadata": {},
   "source": [
    "## 4.ZipFile objects have a close() method just like File objects’ close() method. What ZipFile method is equivalent to File objects’ open() method?"
   ]
  },
  {
   "cell_type": "markdown",
   "id": "f114cdc1",
   "metadata": {},
   "source": [
    "The equivalent method of the ZipFile object to the open() method of a File object is the ZipFile() method. It is used to create a new ZipFile object that represents a ZIP archive, which can then be used to read, write, or modify the contents of the archive.\n",
    "\n",
    "The syntax of the ZipFile() method is as follows:\n",
    "\n",
    "python\n",
    "Copy code\n",
    "zipfile.ZipFile(file, mode='r', compression=ZIP_STORED, allowZip64=True, *, compresslevel=None)\n",
    "\n",
    "\n",
    "Here, file is the path to the ZIP archive file that you want to open. The mode parameter specifies the mode in which the archive should be opened, which can be 'r' (read), 'w' (write), 'x' (exclusive write), or 'a' (append). The compression parameter specifies the compression method to use when writing files to the archive. The allowZip64 parameter specifies whether to allow ZIP files with sizes greater than 2 GB. The compresslevel parameter specifies the level of compression to use when writing files to the archive."
   ]
  },
  {
   "cell_type": "markdown",
   "id": "b953354e",
   "metadata": {},
   "source": []
  }
 ],
 "metadata": {
  "kernelspec": {
   "display_name": "Python 3 (ipykernel)",
   "language": "python",
   "name": "python3"
  },
  "language_info": {
   "codemirror_mode": {
    "name": "ipython",
    "version": 3
   },
   "file_extension": ".py",
   "mimetype": "text/x-python",
   "name": "python",
   "nbconvert_exporter": "python",
   "pygments_lexer": "ipython3",
   "version": "3.9.7"
  }
 },
 "nbformat": 4,
 "nbformat_minor": 5
}
