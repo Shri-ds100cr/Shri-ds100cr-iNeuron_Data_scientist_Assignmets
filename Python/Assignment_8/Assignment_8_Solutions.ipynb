{
 "cells": [
  {
   "cell_type": "markdown",
   "id": "21c524b4",
   "metadata": {},
   "source": [
    "## 1. Is the Python Standard Library included with PyInputPlus?"
   ]
  },
  {
   "cell_type": "markdown",
   "id": "6209e1e8",
   "metadata": {},
   "source": [
    "**ANS:-** No, the Python Standard Library is not included with PyInputPlus. PyInputPlus is a third-party library that provides additional functionality for taking user input in Python, such as validation and retrying prompts"
   ]
  },
  {
   "cell_type": "markdown",
   "id": "35665412",
   "metadata": {},
   "source": [
    "##  2.Why is PyInputPlus commonly imported with import pyinputplus as pypi?"
   ]
  },
  {
   "cell_type": "markdown",
   "id": "48536500",
   "metadata": {},
   "source": [
    "**ANS:-**Using an alias makes it easier to refer to the PyInputPlus module in your code without having to type out the full module name each time. For example, instead of writing pyinputplus.inputInt(), you can simply write pypi.inputInt(). This can make your code more concise and easier to read."
   ]
  },
  {
   "cell_type": "markdown",
   "id": "7c1d18d9",
   "metadata": {},
   "source": [
    "# 3. How do you distinguish between inputInt() and inputFloat()?"
   ]
  },
  {
   "cell_type": "markdown",
   "id": "4dac2dfa",
   "metadata": {},
   "source": [
    "**ANS:-** inputInt() function Accepts an integer value. This also takes additional parameters min, max, greaterThan and lessThan for bounds. And it always returns an int.\n",
    "\n",
    "Whereas inputFloat() function Accepts a floating-point numeric value. this also takes additional min, max, greaterThan and lessThan parameters. and always returns a float."
   ]
  },
  {
   "cell_type": "markdown",
   "id": "d99d4421",
   "metadata": {},
   "source": [
    "## 4. Using PyInputPlus, how do you ensure that the user enters a whole number between 0 and 99?"
   ]
  },
  {
   "cell_type": "markdown",
   "id": "fcb6256d",
   "metadata": {},
   "source": [
    "**ANS:-**PyInputPlus module provides a function called as inputInt() which only returns only integer values. inorder to restrict the input between 0 and 99, i'ii use parameters like min & max to ensure that user enters the values between the defined range only.\n",
    "\n",
    "import pyinputplus as pyip\n",
    "wholenumber = pyip.inputInt(prompt='Enter a number: ', min=0, max=100)\n",
    "print(wholenumber)"
   ]
  },
  {
   "cell_type": "markdown",
   "id": "589518f1",
   "metadata": {},
   "source": [
    "## 5. What is transferred to the keyword arguments allowRegexes and blockRegexes?"
   ]
  },
  {
   "cell_type": "markdown",
   "id": "f6b9a0b7",
   "metadata": {},
   "source": [
    "**ANS:-**  we can use allowRegexes and blockRegexes keyword arguments to take list of regular expression strings to determine what the pyinputplus function will reject or accept valid input."
   ]
  },
  {
   "cell_type": "markdown",
   "id": "671a9136",
   "metadata": {},
   "source": [
    "## 6. If a blank input is entered three times, what does inputStr(limit=3) do?"
   ]
  },
  {
   "cell_type": "markdown",
   "id": "d092f049",
   "metadata": {},
   "source": [
    "**ANS:-**  The statement inputStr(limit=3) will throw two exceptions ValidationException and RetryLimitException. The first exception is thrown because blank values are not allowed by inputStr() function by default. it we want to consider blank values as valid input, we have to set blank=True.\n",
    "\n",
    "The second exception is occured because we have reached the max limit we have specified by using limit parameter. inorder to avoid this exception we can use default parameter to return a default value when max limit is reached"
   ]
  },
  {
   "cell_type": "markdown",
   "id": "14b8fd0e",
   "metadata": {},
   "source": [
    "## 7. If blank input is entered three times, what does inputStr(limit=3, default=&#39;hello&#39;) do?"
   ]
  },
  {
   "cell_type": "markdown",
   "id": "a1312c0a",
   "metadata": {},
   "source": [
    "**ANS:-**  Since the default parameter is set to hello. after blank input is entered three times instead of raising RetryLimitException exception. the function will return hello as response to the calling function"
   ]
  },
  {
   "cell_type": "code",
   "execution_count": null,
   "id": "b2e56fb6",
   "metadata": {},
   "outputs": [],
   "source": []
  }
 ],
 "metadata": {
  "kernelspec": {
   "display_name": "Python 3 (ipykernel)",
   "language": "python",
   "name": "python3"
  },
  "language_info": {
   "codemirror_mode": {
    "name": "ipython",
    "version": 3
   },
   "file_extension": ".py",
   "mimetype": "text/x-python",
   "name": "python",
   "nbconvert_exporter": "python",
   "pygments_lexer": "ipython3",
   "version": "3.9.7"
  }
 },
 "nbformat": 4,
 "nbformat_minor": 5
}
