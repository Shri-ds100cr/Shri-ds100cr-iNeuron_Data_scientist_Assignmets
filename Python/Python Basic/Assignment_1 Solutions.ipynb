{
 "cells": [
  {
   "cell_type": "markdown",
   "id": "3eb36fa9",
   "metadata": {},
   "source": [
    "## 1. In the below elements which of them are values or an expression? eg:- values can be integer or string and expressions will be mathematical operators."
   ]
  },
  {
   "cell_type": "markdown",
   "id": "107abb67",
   "metadata": {},
   "source": [
    "**ANS:-**\n",
    "\n",
    "There are total 3 Expression and  4 values are available here\n",
    "\n",
    "Expression are = ( - , / , + )\n",
    "\n",
    "Values are = ( * , 'hello' , -87.8 , 6 )"
   ]
  },
  {
   "cell_type": "markdown",
   "id": "986bb19b",
   "metadata": {},
   "source": [
    "## 2. What is the difference between string and variable?"
   ]
  },
  {
   "cell_type": "markdown",
   "id": "94c99ae1",
   "metadata": {},
   "source": [
    "**ANS:-**\n",
    "\n",
    "A Variable is a store of information, and a String is a type of information you would store in a Variable.\n",
    "\n",
    "A String is usually words, enclosed with \"\" Eg String x =\"Welcome to SoloLearn\" X is the Variable, and we declared it as a String, use the single = to assign the text to it"
   ]
  },
  {
   "cell_type": "markdown",
   "id": "4a6daa90",
   "metadata": {},
   "source": [
    "## 3. Describe three different data types."
   ]
  },
  {
   "cell_type": "markdown",
   "id": "84700d61",
   "metadata": {},
   "source": [
    "**ANS:-**\n",
    "\n",
    "Three Different Data Type are :-\n",
    "\n",
    "a) Integer Data Type :-Integer Data Type is represented with the help of int class. It consists of positive or negative whole numbers (without fraction or decimal).\n",
    "\n",
    "b) Float Data Type :- Float Data Type is represented with the help of float class. It consists value which has Decimal point is Known as Float.\n",
    "\n",
    "c) String Data Type :- String Data Type is represented with the help of Str class. Strings has stored Alpha-Numeric value."
   ]
  },
  {
   "cell_type": "markdown",
   "id": "02746857",
   "metadata": {},
   "source": [
    "## 4. What is an expression made up of? What do all expressions do?"
   ]
  },
  {
   "cell_type": "markdown",
   "id": "23b297fd",
   "metadata": {},
   "source": [
    "**ANS:-**\n",
    "\n",
    "An expression is a combination of operators, constants and variables\n",
    "\n",
    "Expressions are representations of value. They are different from statement in the fact that statements do something while expressions are representation of value. For example any string is also an expressions since it represents the value of the string as well"
   ]
  },
  {
   "cell_type": "markdown",
   "id": "f6c61530",
   "metadata": {},
   "source": [
    "## 5. This assignment statements, like spam = 10. What is the difference between an expression and a statement?"
   ]
  },
  {
   "cell_type": "markdown",
   "id": "0264f8a7",
   "metadata": {},
   "source": [
    "**ANS:-**\n",
    "\n",
    "Expression is made up of mathematical operators while Assignment(=)\n",
    "\n",
    "Statement is used to assign the values to variables( Spam=10)"
   ]
  },
  {
   "cell_type": "markdown",
   "id": "e11642e2",
   "metadata": {},
   "source": [
    "## 6. After running the following code, what does the variable bacon contain?\n",
    "bacon = 22\n",
    "\n",
    "bacon + 1\n"
   ]
  },
  {
   "cell_type": "markdown",
   "id": "36c9b34a",
   "metadata": {},
   "source": [
    "**ANS:-**\n",
    "\n",
    "After running the code bacon will contain 23"
   ]
  },
  {
   "cell_type": "markdown",
   "id": "1d5caa41",
   "metadata": {},
   "source": [
    "## 7. What should the values of the following two terms be?\n",
    "'spam' + 'spamspam'\n",
    "\n",
    "'spam' * 3\n"
   ]
  },
  {
   "cell_type": "markdown",
   "id": "1630ae31",
   "metadata": {},
   "source": [
    "**ANS:-**\n",
    "\n",
    "'spam' + 'spamspam' = 'spamspamspam'\n",
    "\n",
    "'spam' * 3 = 'spamspamspam'"
   ]
  },
  {
   "cell_type": "markdown",
   "id": "b0fa992c",
   "metadata": {},
   "source": [
    "## 8. Why is eggs a valid variable name while 100 is invalid?"
   ]
  },
  {
   "cell_type": "markdown",
   "id": "bc2760ea",
   "metadata": {},
   "source": [
    "**ANS:-**\n",
    "\n",
    "As per python,Variable names cannot begin with a number. The python rules for naming a variable are :-\n",
    "\n",
    "Variable name must start with a letter or the underscore character. Variable name cannot start with a number. Variable name can only contain alpha-numeric characters and underscores (A-z, 0-9, & _ ). Variable names are case-sensitive (name, AMBARISH and ambarish are three different variables). The reserved words(keywords) cannot be used naming the variable.\n",
    "\n",
    "Now,\n",
    "\n",
    "eggs is a valid Variable name because variable can start with Alphabet.\n",
    "\n",
    "but\n",
    "\n",
    "100 is an Invalid Variable name because variable can't start with numeric value."
   ]
  },
  {
   "cell_type": "markdown",
   "id": "f86906d0",
   "metadata": {},
   "source": [
    "## 9. What three functions can be used to get the integer, floating-point number, or string version of a value?"
   ]
  },
  {
   "cell_type": "markdown",
   "id": "022ef30c",
   "metadata": {},
   "source": [
    "The int() , float() and str() functions will evaluate to the integer,floating-point number,string version of the value passed to them."
   ]
  },
  {
   "cell_type": "code",
   "execution_count": 4,
   "id": "21bd406d",
   "metadata": {},
   "outputs": [
    {
     "name": "stdout",
     "output_type": "stream",
     "text": [
      "int(10.0) ->  10\n",
      "float(10) ->  10.0\n",
      "str(10) ->  10\n"
     ]
    }
   ],
   "source": [
    "# Examples:\n",
    "print('int(10.0) -> ',int(10.0)) # int() function converts given input to int\n",
    "print('float(10) -> ',float(10)) # float() function converts given input to float\n",
    "print('str(10) -> ',str(10)) # str() function converts given input to "
   ]
  },
  {
   "cell_type": "markdown",
   "id": "63f6eea4",
   "metadata": {},
   "source": [
    "## 10. Why does this expression cause an error? How can you fix it?\n",
    "'I have eaten ' + 99 + ' burritos.'"
   ]
  },
  {
   "cell_type": "markdown",
   "id": "0b70c8eb",
   "metadata": {},
   "source": [
    "**ANS:-**\n",
    "\n",
    "This cause of error is 99 because 99 is not a string. 99 must be typecasted to a string to fix this error. The correct way of representing is mentioned below:\n",
    "\n",
    "Input:\n",
    "\n",
    "'I have eaten ' + str(99) + 'burritos.'\n",
    "\n",
    "Output:\n",
    "\n",
    "'I have eaten 99 burritos.'"
   ]
  },
  {
   "cell_type": "code",
   "execution_count": null,
   "id": "341b154e",
   "metadata": {},
   "outputs": [],
   "source": []
  }
 ],
 "metadata": {
  "kernelspec": {
   "display_name": "Python 3 (ipykernel)",
   "language": "python",
   "name": "python3"
  },
  "language_info": {
   "codemirror_mode": {
    "name": "ipython",
    "version": 3
   },
   "file_extension": ".py",
   "mimetype": "text/x-python",
   "name": "python",
   "nbconvert_exporter": "python",
   "pygments_lexer": "ipython3",
   "version": "3.9.7"
  }
 },
 "nbformat": 4,
 "nbformat_minor": 5
}
