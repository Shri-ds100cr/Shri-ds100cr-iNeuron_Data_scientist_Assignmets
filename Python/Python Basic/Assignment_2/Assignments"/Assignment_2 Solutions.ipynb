{
 "cells": [
  {
   "cell_type": "markdown",
   "id": "3eb36fa9",
   "metadata": {},
   "source": [
    "# 1 .What are the two values of the Boolean data type? How do you write them?"
   ]
  },
  {
   "cell_type": "markdown",
   "id": "107abb67",
   "metadata": {},
   "source": [
    "**ANS:-**\n",
    "\n",
    "A boolean data type is declared with the bool keyword and can only take the values true or false . When the value is returned, true = 1 and false = 0"
   ]
  },
  {
   "cell_type": "code",
   "execution_count": 1,
   "id": "c671efcc",
   "metadata": {},
   "outputs": [
    {
     "name": "stdout",
     "output_type": "stream",
     "text": [
      "True <class 'bool'>\n",
      "False <class 'bool'>\n"
     ]
    }
   ],
   "source": [
    "a=True\n",
    "b=False\n",
    "print(a,type(a))\n",
    "print(b,type(b))"
   ]
  },
  {
   "cell_type": "markdown",
   "id": "986bb19b",
   "metadata": {},
   "source": [
    "## 2. What are the three different types of Boolean operators?"
   ]
  },
  {
   "cell_type": "markdown",
   "id": "94c99ae1",
   "metadata": {},
   "source": [
    "**ANS:-**\n",
    "\n",
    "Boolean operators form the basis of mathematical sets and database logic. They connect our search words together to either narrow or broaden our set of results.The three differnt types of Boolean operators in python are: OR, AND, NOT. Example: a>40 and b>40\n",
    "\n"
   ]
  },
  {
   "cell_type": "code",
   "execution_count": 2,
   "id": "bc92841d",
   "metadata": {},
   "outputs": [
    {
     "name": "stdout",
     "output_type": "stream",
     "text": [
      "True\n",
      "True\n",
      "False\n"
     ]
    }
   ],
   "source": [
    "a=1000\n",
    "b=2000\n",
    "print(a>500 and b>1000) # boolean and\n",
    "print(a>200 or b>1000) # boolean or\n",
    "print(not(a>11)) # boolean not"
   ]
  },
  {
   "cell_type": "markdown",
   "id": "4a6daa90",
   "metadata": {},
   "source": [
    "## 3. Make a list of each Boolean operator's truth tables (i.e. every possible combination of Boolean values for the operator and what it evaluate )."
   ]
  },
  {
   "cell_type": "markdown",
   "id": "84700d61",
   "metadata": {},
   "source": [
    "**ANS:-**\n",
    "\n",
    "'''\n",
    "The Truth tables for the boolean tables are as follows:\n",
    "\n",
    "\n",
    "**Truth Table for and operator :-**\n",
    "\n",
    "\n",
    "True and True --> True\n",
    "\n",
    "True and False --> False\n",
    "\n",
    "False and True --> False\n",
    "\n",
    "False and False --> False\n",
    "\n",
    "\n",
    "\n",
    "**Truth Table for or operator :-**\n",
    "\n",
    "\n",
    "\n",
    "True or True --> True\n",
    "\n",
    "True or False --> True\n",
    "\n",
    "False or True --> True\n",
    "\n",
    "False or False --> False\n",
    "\n",
    "\n",
    "\n",
    "**Truth Table for not operator :-**\n",
    "\n",
    "\n",
    "True not --> False False not --> True\n",
    "\n",
    "\n",
    "'''"
   ]
  },
  {
   "cell_type": "markdown",
   "id": "02746857",
   "metadata": {},
   "source": [
    "## 4. What are the values of the following expressions?"
   ]
  },
  {
   "cell_type": "markdown",
   "id": "e4877329",
   "metadata": {},
   "source": [
    "(5 > 4) and (3 == 5)\n",
    "\n",
    "not (5 > 4)\n",
    "\n",
    "(5 > 4) or (3 == 5)\n",
    "\n",
    "not ((5 > 4) or (3 == 5))\n",
    "\n",
    "(True and True) and (True == False)\n",
    "\n",
    "(not False) or (not True)"
   ]
  },
  {
   "cell_type": "code",
   "execution_count": 3,
   "id": "51c6358a",
   "metadata": {},
   "outputs": [
    {
     "name": "stdout",
     "output_type": "stream",
     "text": [
      "False\n",
      "False\n",
      "True\n",
      "False\n",
      "False\n",
      "True\n"
     ]
    }
   ],
   "source": [
    "print((5>4)and(3==5)) # False\n",
    "print(not(5>4)) # False\n",
    "print((5>4)or(3==5)) # True\n",
    "print(not((5>4)or(3==5))) # False\n",
    "print((True and True)and(True==False)) # False\n",
    "print((not False)or(not True)) # True"
   ]
  },
  {
   "cell_type": "markdown",
   "id": "f6c61530",
   "metadata": {},
   "source": [
    "## 5. What are the six comparison operators?"
   ]
  },
  {
   "cell_type": "markdown",
   "id": "0264f8a7",
   "metadata": {},
   "source": [
    "**ANS:-**\n",
    "\n",
    "The Six Comparision Operators available in python are:-\n",
    "\n",
    "== , != , < , > , <= , =>"
   ]
  },
  {
   "cell_type": "markdown",
   "id": "e11642e2",
   "metadata": {},
   "source": [
    "## 6. How do you tell the difference between the equal to and assignment operators? Describe a condition and when you would use one."
   ]
  },
  {
   "cell_type": "markdown",
   "id": "36c9b34a",
   "metadata": {},
   "source": [
    "**ANS:-**\n",
    "\n",
    "== is the equal to operator that compares two values and evaluates to a Boolean, while = is that assignment operator that stores a value in a variable"
   ]
  },
  {
   "cell_type": "code",
   "execution_count": 4,
   "id": "98227213",
   "metadata": {},
   "outputs": [
    {
     "name": "stdout",
     "output_type": "stream",
     "text": [
      "False\n"
     ]
    }
   ],
   "source": [
    "b=10 # Assigning operator that stores 10 value in a variable b\n",
    "if b==10: #comparing values of b varible value and 10\n",
    "    print(b==3) "
   ]
  },
  {
   "cell_type": "markdown",
   "id": "1d5caa41",
   "metadata": {},
   "source": [
    "## 7. Identify the three blocks in this code:-"
   ]
  },
  {
   "cell_type": "markdown",
   "id": "3559d409",
   "metadata": {},
   "source": [
    "spam = 0\n",
    "\n",
    "if spam == 10:\n",
    "\n",
    "print('eggs')\n",
    "\n",
    "if spam > 5:\n",
    "\n",
    "print('bacon')\n",
    "\n",
    "else:\n",
    "\n",
    "print('ham')\n",
    "\n",
    "print('spam')\n",
    "\n",
    "print('spam')"
   ]
  },
  {
   "cell_type": "markdown",
   "id": "1630ae31",
   "metadata": {},
   "source": [
    "**ANS:-**\n",
    "\n",
    "In Python, code block refers to a collection of code that is in the same block or indent. This is most commonly found in classes, functions, and loops. Answer for the question is:-\n",
    "\n",
    "ham\n",
    "\n",
    "spam\n",
    "\n",
    "spam"
   ]
  },
  {
   "cell_type": "code",
   "execution_count": 5,
   "id": "5cc5ec7d",
   "metadata": {},
   "outputs": [
    {
     "name": "stdout",
     "output_type": "stream",
     "text": [
      "ham\n",
      "spam\n",
      "spam\n"
     ]
    }
   ],
   "source": [
    "spam = 0  \n",
    "if spam == 10:  \n",
    "    print('eggs')  # block #1\n",
    "if spam > 5:  \n",
    "    print('bacon')  # block #2\n",
    "else:  \n",
    "    print('ham')  # block #3\n",
    "print('spam')  \n",
    "print('spam')"
   ]
  },
  {
   "cell_type": "markdown",
   "id": "b0fa992c",
   "metadata": {},
   "source": [
    "## 8. Write code that prints Hello if 1 is stored in spam, prints Howdy if 2 is stored in spam, and prints Greetings! if anything else is stored in spam.?"
   ]
  },
  {
   "cell_type": "code",
   "execution_count": 8,
   "id": "89fd71e7",
   "metadata": {},
   "outputs": [
    {
     "name": "stdout",
     "output_type": "stream",
     "text": [
      "Greetings\n",
      "Howdey\n",
      "Hello\n"
     ]
    }
   ],
   "source": [
    "##ANS\n",
    "def SpamCode(spam):\n",
    "    if spam==1:\n",
    "        print('Hello')\n",
    "    elif spam==2:\n",
    "        print(\"Howdey\")\n",
    "    else:\n",
    "        print(\"Greetings\")\n",
    "SpamCode(3)\n",
    "SpamCode(2)\n",
    "SpamCode(1)"
   ]
  },
  {
   "cell_type": "markdown",
   "id": "f86906d0",
   "metadata": {},
   "source": [
    "## 9. If your programme is stuck in an endless loop, what keys you’ll press?\n"
   ]
  },
  {
   "cell_type": "markdown",
   "id": "022ef30c",
   "metadata": {},
   "source": [
    "** ANS**\n",
    "\n",
    "To stop a program stuck in an infinite loop, we press Ctrl-c"
   ]
  },
  {
   "cell_type": "markdown",
   "id": "63f6eea4",
   "metadata": {},
   "source": [
    "## 10. How can you tell the difference between break and continue?"
   ]
  },
  {
   "cell_type": "markdown",
   "id": "0b70c8eb",
   "metadata": {},
   "source": [
    "**ANS:-**\n",
    "\n",
    "The break statement will move the execution outside the loop if break condtion is satisfied whereas the continue statement will move the execution to the start of the loop. Example of break and continue is mentioned below"
   ]
  },
  {
   "cell_type": "code",
   "execution_count": 10,
   "id": "341b154e",
   "metadata": {},
   "outputs": [
    {
     "name": "stdout",
     "output_type": "stream",
     "text": [
      "R\n",
      "a\n",
      "The end\n"
     ]
    }
   ],
   "source": [
    "# Use of break statement inside the loop\n",
    "\n",
    "for val in \"Radhe\":\n",
    "    if val == \"d\":\n",
    "        break\n",
    "    print(val)\n",
    "\n",
    "print(\"The end\")"
   ]
  },
  {
   "cell_type": "code",
   "execution_count": 11,
   "id": "9d53bf73",
   "metadata": {},
   "outputs": [
    {
     "name": "stdout",
     "output_type": "stream",
     "text": [
      "K\n",
      "r\n",
      "s\n",
      "h\n",
      "n\n",
      "a\n",
      "The end\n"
     ]
    }
   ],
   "source": [
    "# Program to show the use of continue statement inside loops\n",
    "\n",
    "for val in \"Krishna\":\n",
    "    if val == \"i\":\n",
    "        continue\n",
    "    print(val)\n",
    "\n",
    "print(\"The end\")"
   ]
  },
  {
   "cell_type": "markdown",
   "id": "2bbb6a26",
   "metadata": {},
   "source": [
    "# 11.In a for loop, what is the difference between range(10), range(0, 10), and range(0, 10, 1)?"
   ]
  },
  {
   "cell_type": "markdown",
   "id": "2f51d042",
   "metadata": {},
   "source": [
    "**ANS:-**\n",
    "\n",
    "The Differences are as follows:\n",
    "\n",
    "The range(10) call range from 0 to 9 (but not include 10) and default incremt is one\n",
    "\n",
    "The range (0,10) explicitly tells the loop to start at 0 and default incremt is one\n",
    "\n",
    "The range(0,10,1) explicitly tells the loop to increase the variable by 1 on each iteration"
   ]
  },
  {
   "cell_type": "code",
   "execution_count": 12,
   "id": "6c1412d3",
   "metadata": {},
   "outputs": [
    {
     "name": "stdout",
     "output_type": "stream",
     "text": [
      "0 1 2 3 4 5 6 7 8 9 \n"
     ]
    }
   ],
   "source": [
    "# printing a number\n",
    "for i in range(10):\n",
    "    print(i, end=\" \")\n",
    "print()"
   ]
  },
  {
   "cell_type": "code",
   "execution_count": 14,
   "id": "b2667a5f",
   "metadata": {},
   "outputs": [
    {
     "name": "stdout",
     "output_type": "stream",
     "text": [
      "Sum of numbers : 45\n"
     ]
    }
   ],
   "source": [
    "# performing sum of numbers\n",
    "sum_int= 0\n",
    "for i in range(0, 10):\n",
    "    sum_int = sum_int + i\n",
    "print(\"Sum of numbers :\", sum_int)"
   ]
  },
  {
   "cell_type": "code",
   "execution_count": 15,
   "id": "c011f083",
   "metadata": {},
   "outputs": [
    {
     "name": "stdout",
     "output_type": "stream",
     "text": [
      "Sum of numbers : 45\n"
     ]
    }
   ],
   "source": [
    "# performing sum of numbers\n",
    "sum_int= 0\n",
    "for i in range(0, 10,1):\n",
    "    sum_int = sum_int + i\n",
    "print(\"Sum of numbers :\", sum_int)"
   ]
  },
  {
   "cell_type": "markdown",
   "id": "1312ceae",
   "metadata": {},
   "source": [
    "# 12.Write a short program that prints the numbers 1 to 10 using a for loop. Then write an equivalent program that prints the numbers 1 to 10 using a while loop"
   ]
  },
  {
   "cell_type": "code",
   "execution_count": 22,
   "id": "663f9ad2",
   "metadata": {},
   "outputs": [
    {
     "name": "stdout",
     "output_type": "stream",
     "text": [
      "1  2  3  4  5  6  7  8  9  10  "
     ]
    }
   ],
   "source": [
    "#Using for loop\n",
    "for i in range(1,11):\n",
    "    print(i,end=\"  \")"
   ]
  },
  {
   "cell_type": "code",
   "execution_count": 21,
   "id": "486b507b",
   "metadata": {},
   "outputs": [
    {
     "name": "stdout",
     "output_type": "stream",
     "text": [
      "1  2  3  4  5  6  7  8  9  10  "
     ]
    }
   ],
   "source": [
    "#While loop\n",
    "i=1\n",
    "while i<=10:\n",
    "    print(i,end=\"  \")\n",
    "    i+=1"
   ]
  },
  {
   "cell_type": "markdown",
   "id": "91f0bfca",
   "metadata": {},
   "source": [
    "# 13.If you had a function named bacon() inside a module named spam, how would you call it after importing spam?"
   ]
  },
  {
   "cell_type": "markdown",
   "id": "54029d31",
   "metadata": {},
   "source": [
    "**ANS**:-\n",
    "\n",
    "This function can be called with spam.bacon()"
   ]
  },
  {
   "cell_type": "code",
   "execution_count": null,
   "id": "1a79d773",
   "metadata": {},
   "outputs": [],
   "source": []
  }
 ],
 "metadata": {
  "kernelspec": {
   "display_name": "Python 3 (ipykernel)",
   "language": "python",
   "name": "python3"
  },
  "language_info": {
   "codemirror_mode": {
    "name": "ipython",
    "version": 3
   },
   "file_extension": ".py",
   "mimetype": "text/x-python",
   "name": "python",
   "nbconvert_exporter": "python",
   "pygments_lexer": "ipython3",
   "version": "3.9.7"
  }
 },
 "nbformat": 4,
 "nbformat_minor": 5
}
