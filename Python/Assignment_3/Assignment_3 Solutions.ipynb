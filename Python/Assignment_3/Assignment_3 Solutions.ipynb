{
 "cells": [
  {
   "cell_type": "markdown",
   "id": "84c7f3b0",
   "metadata": {},
   "source": [
    "## 1. Why are functions advantageous to have in your programs?"
   ]
  },
  {
   "cell_type": "markdown",
   "id": "33e30c4f",
   "metadata": {},
   "source": [
    "**ANS:-** Functions reduce the need for duplicate code. This makes programs shorter, easier to read, and easier to update."
   ]
  },
  {
   "cell_type": "markdown",
   "id": "a0a158bd",
   "metadata": {},
   "source": [
    "## 2. When does the code in a function run: when it's specified or when it's called?"
   ]
  },
  {
   "cell_type": "markdown",
   "id": "f7549fd7",
   "metadata": {},
   "source": [
    "**ANS:-** The code in a function executes when the function is called, not when the function is defined.\n"
   ]
  },
  {
   "cell_type": "markdown",
   "id": "4b32f12d",
   "metadata": {},
   "source": [
    "## 3. What statement creates a function?"
   ]
  },
  {
   "cell_type": "markdown",
   "id": "4dd18fd2",
   "metadata": {},
   "source": [
    "**ANS:-** The def statement defines, i.e. creates a function."
   ]
  },
  {
   "cell_type": "markdown",
   "id": "44eceeed",
   "metadata": {},
   "source": [
    "## 4.What is the difference between a function and a function call?"
   ]
  },
  {
   "cell_type": "markdown",
   "id": "c6199a77",
   "metadata": {},
   "source": [
    "A function consists of the def statement and the code in its def clause. A function call is what moves the program execution into the function, and the function call evaluates to the function's return value."
   ]
  },
  {
   "cell_type": "markdown",
   "id": "52dae82b",
   "metadata": {},
   "source": [
    "## 5.How many global scopes are there in a Python program? How many local scopes?"
   ]
  },
  {
   "cell_type": "markdown",
   "id": "f8ec1dfd",
   "metadata": {},
   "source": [
    "**ANS:-** There is one global scope, and a local scope is created whenever a function is called."
   ]
  },
  {
   "cell_type": "markdown",
   "id": "eeccb0a3",
   "metadata": {},
   "source": [
    "## 6.What happens to variables in a local scope when the function call returns?"
   ]
  },
  {
   "cell_type": "markdown",
   "id": "b250dd73",
   "metadata": {},
   "source": [
    "**ANS:-** When a function returns, the local scope is destroyed, and all the variables in it are forgotten."
   ]
  },
  {
   "cell_type": "markdown",
   "id": "b1724285",
   "metadata": {},
   "source": [
    "## 7.What is the concept of a return value? Is it possible to have a return value in an expression?"
   ]
  },
  {
   "cell_type": "markdown",
   "id": "d793bb49",
   "metadata": {},
   "source": [
    "**ANS:-** A return value is the value that a function call evaluates to. Like any value, a return value can be used as part of an expression."
   ]
  },
  {
   "cell_type": "markdown",
   "id": "101b4c5d",
   "metadata": {},
   "source": [
    "## 8.If a function does not have a return statement, what is the return value of a call to that function?"
   ]
  },
  {
   "cell_type": "markdown",
   "id": "5d1a9b36",
   "metadata": {},
   "source": [
    "**ANS:-** If there is no return statement for a function, its return value is None."
   ]
  },
  {
   "cell_type": "markdown",
   "id": "66e1c361",
   "metadata": {},
   "source": [
    "## 9. How do you make a function variable refer to the global variable?"
   ]
  },
  {
   "cell_type": "markdown",
   "id": "3d803ff5",
   "metadata": {},
   "source": [
    "**ANS:-** A global statement will force a variable in a function to refer to the global variable."
   ]
  },
  {
   "cell_type": "markdown",
   "id": "71b63cd6",
   "metadata": {},
   "source": [
    "## 10.What is the data type of None?"
   ]
  },
  {
   "cell_type": "markdown",
   "id": "6beb71a6",
   "metadata": {},
   "source": [
    "**ANS:-** The data type of None is NoneType."
   ]
  },
  {
   "cell_type": "markdown",
   "id": "01dcf641",
   "metadata": {},
   "source": [
    "## 11.What does the sentence import areallyourpetsnamederic do?"
   ]
  },
  {
   "cell_type": "markdown",
   "id": "37554717",
   "metadata": {},
   "source": [
    "**ANS:-** That import statement imports a module named areallyourpetsnamederic."
   ]
  },
  {
   "cell_type": "markdown",
   "id": "f8d84286",
   "metadata": {},
   "source": [
    "## 12.If you had a bacon() feature in a spam module, what would you call it after importing spam?"
   ]
  },
  {
   "cell_type": "markdown",
   "id": "46fa6f99",
   "metadata": {},
   "source": [
    "**ANS:-** This function can be called with spam.bacon()."
   ]
  },
  {
   "cell_type": "markdown",
   "id": "53db6624",
   "metadata": {},
   "source": [
    "## 13.What can you do to save a programme from crashing if it encounters an error?"
   ]
  },
  {
   "cell_type": "markdown",
   "id": "e35e40dc",
   "metadata": {},
   "source": [
    "**ANS:-** Place the line of code that might cause an error in a try clause."
   ]
  },
  {
   "cell_type": "markdown",
   "id": "8c41899f",
   "metadata": {},
   "source": [
    "## 14.What is the purpose of the try clause? What is the purpose of the except clause?"
   ]
  },
  {
   "cell_type": "markdown",
   "id": "1f4af079",
   "metadata": {},
   "source": [
    "**ANS:-** The code that could potentially cause an error goes in the try clause.\n",
    "-The code that executes if an error happens goes in the except clause."
   ]
  }
 ],
 "metadata": {
  "kernelspec": {
   "display_name": "Python 3 (ipykernel)",
   "language": "python",
   "name": "python3"
  },
  "language_info": {
   "codemirror_mode": {
    "name": "ipython",
    "version": 3
   },
   "file_extension": ".py",
   "mimetype": "text/x-python",
   "name": "python",
   "nbconvert_exporter": "python",
   "pygments_lexer": "ipython3",
   "version": "3.9.7"
  }
 },
 "nbformat": 4,
 "nbformat_minor": 5
}
