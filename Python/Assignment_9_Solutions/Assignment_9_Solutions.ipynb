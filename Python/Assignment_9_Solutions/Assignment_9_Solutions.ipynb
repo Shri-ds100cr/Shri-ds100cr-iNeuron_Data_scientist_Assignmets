{
 "cells": [
  {
   "cell_type": "markdown",
   "id": "1d92fab7",
   "metadata": {},
   "source": [
    "# 1.To what does a relative path refer ?"
   ]
  },
  {
   "cell_type": "markdown",
   "id": "4d498fa2",
   "metadata": {},
   "source": [
    "A relative path is a file path that is relative to the current working directory of a program or to the location of another file. It specifies the location of a file or directory relative to the location of the program or file that is using the path."
   ]
  },
  {
   "cell_type": "markdown",
   "id": "49574e36",
   "metadata": {},
   "source": [
    "## 2.What does an absolute path start with your operating system?"
   ]
  },
  {
   "cell_type": "markdown",
   "id": "f848acb4",
   "metadata": {},
   "source": [
    "The format of an absolute file path can vary depending on the operating system being used, but in general an absolute path starts with the root directory of the file system."
   ]
  },
  {
   "cell_type": "markdown",
   "id": "5a4c72bd",
   "metadata": {},
   "source": [
    "## 3.What do the functions os.getcwd() and os.chdir() do?"
   ]
  },
  {
   "cell_type": "markdown",
   "id": "b5a094c0",
   "metadata": {},
   "source": [
    "The os module in Python provides functions for working with the operating system, including functions for working with file paths and directories. os.getcwd() and os.chdir() are two such functions:\n",
    "\n",
    "os.getcwd(): This function returns the current working directory (CWD) of the Python interpreter as a string. The current working directory is the directory in which the Python script or the Python REPL (interactive shell) is currently running. For example:\n",
    "\n",
    "import os\n",
    "\n",
    "cwd = os.getcwd()\n",
    "print(cwd)  # Outputs the current working directory\n",
    "\n",
    "os.chdir(path): This function changes the current working directory to the directory specified by the path argument. The path argument can be an absolute path or a relative path. If the path is a relative path, it is interpreted relative to the current working "
   ]
  },
  {
   "cell_type": "markdown",
   "id": "d9f090ea",
   "metadata": {},
   "source": [
    "## 4.What are the . and .. folders?"
   ]
  },
  {
   "cell_type": "markdown",
   "id": "aa74b481",
   "metadata": {},
   "source": [
    ".Represents the Current Directory Whereas .. Represents the Parent Directory of the Current Directory\n",
    "For Example: if the below path is my absolute path:\n",
    "C:\\\\Users\\\\vishnu\\\\Documents\\\\iNeuron-Assignments\\\\Python Basic Assignment\n",
    "Then . represents the path C:\\\\Users\\\\vishnu\\\\Documents\\\\iNeuron-Assignments\\\\Python Basic Assignment\n",
    "Where as .. represents the path C:\\\\Users\\\\vishnu\\\\Documents\\\\iNeuron-Assignments"
   ]
  },
  {
   "cell_type": "markdown",
   "id": "25123896",
   "metadata": {},
   "source": [
    "## 5.In C:\\bacon\\eggs\\spam.txt which part is the dir name and which part is the base name ?"
   ]
  },
  {
   "cell_type": "markdown",
   "id": "3dfd2270",
   "metadata": {},
   "source": [
    "For C:\\bacon\\eggs\\spam.txt\n",
    "The dir name is C:\\\\bacon\\\\eggs\n",
    "The Base name is spam.txt"
   ]
  },
  {
   "cell_type": "code",
   "execution_count": 1,
   "id": "4eef776b",
   "metadata": {},
   "outputs": [
    {
     "name": "stdout",
     "output_type": "stream",
     "text": [
      "C:\\bacon\\eggs\n",
      "spam.txt\n"
     ]
    }
   ],
   "source": [
    "import os\n",
    "path = r'C:\\bacon\\eggs\\spam.txt'\n",
    "print(os.path.dirname(path))\n",
    "print(os.path.basename(path))"
   ]
  },
  {
   "cell_type": "markdown",
   "id": "aa68517b",
   "metadata": {},
   "source": [
    "## 6.What are the three mode arguments that can be passed to the open() function ?"
   ]
  },
  {
   "cell_type": "raw",
   "id": "d5db4e82",
   "metadata": {},
   "source": [
    "A file can be Accessed in python using open() function. open function takes two arguments filename and mode of operation (optional). if mode is not provided the default mode of opening is read mode\n",
    "So, the syntax being: open(filename, mode)\n",
    "\n",
    "‘r’ – Read Mode: This is the default mode for open(). The file is opened and a pointer is positioned at the beginning of the file’s content.\n",
    "‘w’ – Write Mode: Using this mode will overwrite any existing content in a file. If the given file does not exist, a new one will be created.\n",
    "‘r+’ – Read/Write Mode: Use this mode if you need to simultaneously read and write to a file.\n",
    "‘a’ – Append Mode: With this mode the user can append the data without overwriting any already existing data in the file.\n",
    "‘a+’ – Append and Read Mode: In this mode you can read and append the data without overwriting the original file.\n",
    "‘x’ – Exclusive Creating Mode: This mode is for the sole purpose of creating new files. Use this mode if you know the file to be written doesn’t exist beforehand."
   ]
  },
  {
   "cell_type": "markdown",
   "id": "a4f9b80a",
   "metadata": {},
   "source": [
    "## 7.What happens if an existing file is opened in write mode ?"
   ]
  },
  {
   "cell_type": "markdown",
   "id": "e4f9edb4",
   "metadata": {},
   "source": [
    "Using this mode will overwrite any existing content in a file. If the given file does not exist, a new one will be created."
   ]
  },
  {
   "cell_type": "markdown",
   "id": "5621bdfc",
   "metadata": {},
   "source": [
    "## 8.How do you tell the difference between read() and readlines() ?"
   ]
  },
  {
   "cell_type": "markdown",
   "id": "83408eb3",
   "metadata": {},
   "source": [
    "The main difference is that read() will read the whole file at once and then print out the first characters that take up as many bytes as you specify in the parenthesis\n",
    "\n",
    "Whereas the readline() that will read and print out only the first characters that take up as many bytes as you specify in the parenthesis. You may want to use readline() when you're reading files that are too big for your RAM.\n",
    "The read() would treat each character in the file separately, meaning that the iteration would happen for every character.\n",
    "The readline() function, on the other hand, only reads a single line of the file. This means that if the first line of the file were three lines long, the readline() function would only parse (or iterate/operate) on the first line of the file."
   ]
  },
  {
   "cell_type": "markdown",
   "id": "8c750764",
   "metadata": {},
   "source": [
    "## What data structure does a shelf value resemble ?"
   ]
  },
  {
   "cell_type": "markdown",
   "id": "1cba9625",
   "metadata": {},
   "source": [
    " it contains key and values it represents dictionary"
   ]
  },
  {
   "cell_type": "code",
   "execution_count": null,
   "id": "783b308b",
   "metadata": {},
   "outputs": [],
   "source": []
  }
 ],
 "metadata": {
  "kernelspec": {
   "display_name": "Python 3 (ipykernel)",
   "language": "python",
   "name": "python3"
  },
  "language_info": {
   "codemirror_mode": {
    "name": "ipython",
    "version": 3
   },
   "file_extension": ".py",
   "mimetype": "text/x-python",
   "name": "python",
   "nbconvert_exporter": "python",
   "pygments_lexer": "ipython3",
   "version": "3.9.7"
  }
 },
 "nbformat": 4,
 "nbformat_minor": 5
}
