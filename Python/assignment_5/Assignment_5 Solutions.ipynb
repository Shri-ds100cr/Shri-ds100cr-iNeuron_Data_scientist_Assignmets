{
 "cells": [
  {
   "cell_type": "markdown",
   "id": "a7af44f3",
   "metadata": {},
   "source": [
    "## 1. What does an empty dictionary&#39;s code look like?"
   ]
  },
  {
   "cell_type": "markdown",
   "id": "539298de",
   "metadata": {},
   "source": [
    "**ANS:-** An empty pair of curly braces {} is an empty dictionary, just like an empty pair of [] is an empty list."
   ]
  },
  {
   "cell_type": "markdown",
   "id": "9a6dd30a",
   "metadata": {},
   "source": [
    "## 2. What is the value of a dictionary value with the key &#39;foo&#39; and the value 42?"
   ]
  },
  {
   "cell_type": "markdown",
   "id": "b40cd779",
   "metadata": {},
   "source": [
    "**ANS:-**\n",
    "tmp = {'foo': 42}"
   ]
  },
  {
   "cell_type": "markdown",
   "id": "6f0d4b09",
   "metadata": {},
   "source": [
    "## 3. What is the main difference between a dictionary and a list?"
   ]
  },
  {
   "cell_type": "markdown",
   "id": "95d9159c",
   "metadata": {},
   "source": [
    "**ANS:-** The elements in a list are ordered, and the elements in a dictionary aren't.\n",
    "Also, elements in a list must be accessed using numerical indices. Elements in a dictionary are indexed using keys, which can have different data types."
   ]
  },
  {
   "cell_type": "markdown",
   "id": "2151925f",
   "metadata": {},
   "source": [
    "## 4. What happens if you try to access spam['foo'] if spam is {'bar': 100}?"
   ]
  },
  {
   "cell_type": "markdown",
   "id": "a4079b18",
   "metadata": {},
   "source": [
    "**ANS:-** You will get a KeyError error."
   ]
  },
  {
   "cell_type": "markdown",
   "id": "c0668e4f",
   "metadata": {},
   "source": [
    "## 5. If a dictionary is stored in spam, what is the difference between the expressions 'cat' in spam and 'cat' in spam.keys()?"
   ]
  },
  {
   "cell_type": "markdown",
   "id": "06f07446",
   "metadata": {},
   "source": [
    "**ANS:-** There is no difference, the expression \" 'cat' in spam \" checks whether 'cat' is a key in spam."
   ]
  },
  {
   "cell_type": "markdown",
   "id": "cc3d13c5",
   "metadata": {},
   "source": [
    "## 6. If a dictionary is stored in spam, what is the difference between the expressions 'cat' in spam and 'cat' in spam.values()?"
   ]
  },
  {
   "cell_type": "markdown",
   "id": "c0f8875e",
   "metadata": {},
   "source": [
    "**ANS:-** 'cat' in spam checks whether'cat' exists as a key in spam. 'cat' in spam.values() checks whether 'cat' is a value in spam."
   ]
  },
  {
   "cell_type": "markdown",
   "id": "590daa4b",
   "metadata": {},
   "source": [
    "## 7. What is a shortcut for the following code?\n",
    "if 'color' not in spam:\n",
    "    spam['color'] = 'black'"
   ]
  },
  {
   "cell_type": "markdown",
   "id": "5cf2d520",
   "metadata": {},
   "source": [
    "spam.setdefault('color','black')"
   ]
  },
  {
   "cell_type": "markdown",
   "id": "5cb31b6d",
   "metadata": {},
   "source": [
    "## 8. What module and function can be used to “pretty print” dictionary values?"
   ]
  },
  {
   "cell_type": "markdown",
   "id": "6e1cee75",
   "metadata": {},
   "source": [
    "**ANS:-** The module is pprint.\n",
    "The functions are pprint.pprint() and pprint.pformat()."
   ]
  },
  {
   "cell_type": "markdown",
   "id": "cba4d5d7",
   "metadata": {},
   "source": []
  }
 ],
 "metadata": {
  "kernelspec": {
   "display_name": "Python 3 (ipykernel)",
   "language": "python",
   "name": "python3"
  },
  "language_info": {
   "codemirror_mode": {
    "name": "ipython",
    "version": 3
   },
   "file_extension": ".py",
   "mimetype": "text/x-python",
   "name": "python",
   "nbconvert_exporter": "python",
   "pygments_lexer": "ipython3",
   "version": "3.9.7"
  }
 },
 "nbformat": 4,
 "nbformat_minor": 5
}
